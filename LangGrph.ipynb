{
  "cells": [
    {
      "cell_type": "code",
      "execution_count": 2,
      "metadata": {
        "colab": {
          "base_uri": "https://localhost:8080/"
        },
        "id": "abGxmq4CKx7h",
        "outputId": "b68b4daf-6a46-40da-8b45-8bc071c94560"
      },
      "outputs": [
        {
          "name": "stdout",
          "output_type": "stream",
          "text": [
            "Requirement already satisfied: langgraph in /usr/local/lib/python3.11/dist-packages (0.5.0)\n",
            "Requirement already satisfied: langsmith in /usr/local/lib/python3.11/dist-packages (0.4.1)\n",
            "Requirement already satisfied: langchain-core>=0.1 in /usr/local/lib/python3.11/dist-packages (from langgraph) (0.3.67)\n",
            "Requirement already satisfied: langgraph-checkpoint>=2.1.0 in /usr/local/lib/python3.11/dist-packages (from langgraph) (2.1.0)\n",
            "Requirement already satisfied: langgraph-prebuilt>=0.5.0 in /usr/local/lib/python3.11/dist-packages (from langgraph) (0.5.2)\n",
            "Requirement already satisfied: langgraph-sdk>=0.1.42 in /usr/local/lib/python3.11/dist-packages (from langgraph) (0.1.72)\n",
            "Requirement already satisfied: pydantic>=2.7.4 in /usr/local/lib/python3.11/dist-packages (from langgraph) (2.11.7)\n",
            "Requirement already satisfied: xxhash>=3.5.0 in /usr/local/lib/python3.11/dist-packages (from langgraph) (3.5.0)\n",
            "Requirement already satisfied: httpx<1,>=0.23.0 in /usr/local/lib/python3.11/dist-packages (from langsmith) (0.28.1)\n",
            "Requirement already satisfied: orjson<4.0.0,>=3.9.14 in /usr/local/lib/python3.11/dist-packages (from langsmith) (3.10.18)\n",
            "Requirement already satisfied: packaging>=23.2 in /usr/local/lib/python3.11/dist-packages (from langsmith) (24.2)\n",
            "Requirement already satisfied: requests<3,>=2 in /usr/local/lib/python3.11/dist-packages (from langsmith) (2.32.3)\n",
            "Requirement already satisfied: requests-toolbelt<2.0.0,>=1.0.0 in /usr/local/lib/python3.11/dist-packages (from langsmith) (1.0.0)\n",
            "Requirement already satisfied: zstandard<0.24.0,>=0.23.0 in /usr/local/lib/python3.11/dist-packages (from langsmith) (0.23.0)\n",
            "Requirement already satisfied: anyio in /usr/local/lib/python3.11/dist-packages (from httpx<1,>=0.23.0->langsmith) (4.9.0)\n",
            "Requirement already satisfied: certifi in /usr/local/lib/python3.11/dist-packages (from httpx<1,>=0.23.0->langsmith) (2025.6.15)\n",
            "Requirement already satisfied: httpcore==1.* in /usr/local/lib/python3.11/dist-packages (from httpx<1,>=0.23.0->langsmith) (1.0.9)\n",
            "Requirement already satisfied: idna in /usr/local/lib/python3.11/dist-packages (from httpx<1,>=0.23.0->langsmith) (3.10)\n",
            "Requirement already satisfied: h11>=0.16 in /usr/local/lib/python3.11/dist-packages (from httpcore==1.*->httpx<1,>=0.23.0->langsmith) (0.16.0)\n",
            "Requirement already satisfied: tenacity!=8.4.0,<10.0.0,>=8.1.0 in /usr/local/lib/python3.11/dist-packages (from langchain-core>=0.1->langgraph) (8.5.0)\n",
            "Requirement already satisfied: jsonpatch<2.0,>=1.33 in /usr/local/lib/python3.11/dist-packages (from langchain-core>=0.1->langgraph) (1.33)\n",
            "Requirement already satisfied: PyYAML>=5.3 in /usr/local/lib/python3.11/dist-packages (from langchain-core>=0.1->langgraph) (6.0.2)\n",
            "Requirement already satisfied: typing-extensions>=4.7 in /usr/local/lib/python3.11/dist-packages (from langchain-core>=0.1->langgraph) (4.14.0)\n",
            "Requirement already satisfied: ormsgpack>=1.10.0 in /usr/local/lib/python3.11/dist-packages (from langgraph-checkpoint>=2.1.0->langgraph) (1.10.0)\n",
            "Requirement already satisfied: annotated-types>=0.6.0 in /usr/local/lib/python3.11/dist-packages (from pydantic>=2.7.4->langgraph) (0.7.0)\n",
            "Requirement already satisfied: pydantic-core==2.33.2 in /usr/local/lib/python3.11/dist-packages (from pydantic>=2.7.4->langgraph) (2.33.2)\n",
            "Requirement already satisfied: typing-inspection>=0.4.0 in /usr/local/lib/python3.11/dist-packages (from pydantic>=2.7.4->langgraph) (0.4.1)\n",
            "Requirement already satisfied: charset-normalizer<4,>=2 in /usr/local/lib/python3.11/dist-packages (from requests<3,>=2->langsmith) (3.4.2)\n",
            "Requirement already satisfied: urllib3<3,>=1.21.1 in /usr/local/lib/python3.11/dist-packages (from requests<3,>=2->langsmith) (2.4.0)\n",
            "Requirement already satisfied: jsonpointer>=1.9 in /usr/local/lib/python3.11/dist-packages (from jsonpatch<2.0,>=1.33->langchain-core>=0.1->langgraph) (3.0.0)\n",
            "Requirement already satisfied: sniffio>=1.1 in /usr/local/lib/python3.11/dist-packages (from anyio->httpx<1,>=0.23.0->langsmith) (1.3.1)\n"
          ]
        }
      ],
      "source": [
        "#LangGraph builds smart workflows → LangSmith helps you monitor and improve them.\n",
        "#LangGraph = How your AI thinks and works step by step\n",
        "#LangSmith = How you watch, track and access each and every information in your project\n",
        "!pip install langgraph langsmith"
      ]
    },
    {
      "cell_type": "code",
      "execution_count": 5,
      "metadata": {
        "colab": {
          "base_uri": "https://localhost:8080/"
        },
        "id": "RBUmXudwLAt4",
        "outputId": "7b4dc648-13be-4ffb-a8b3-e2f23b4c2190"
      },
      "outputs": [
        {
          "name": "stdout",
          "output_type": "stream",
          "text": [
            "Requirement already satisfied: langchain in /usr/local/lib/python3.11/dist-packages (0.3.26)\n",
            "Requirement already satisfied: langchain_groq in /usr/local/lib/python3.11/dist-packages (0.3.5)\n",
            "Requirement already satisfied: langchain_community in /usr/local/lib/python3.11/dist-packages (0.3.26)\n",
            "Requirement already satisfied: langchain-core<1.0.0,>=0.3.66 in /usr/local/lib/python3.11/dist-packages (from langchain) (0.3.67)\n",
            "Requirement already satisfied: langchain-text-splitters<1.0.0,>=0.3.8 in /usr/local/lib/python3.11/dist-packages (from langchain) (0.3.8)\n",
            "Requirement already satisfied: langsmith>=0.1.17 in /usr/local/lib/python3.11/dist-packages (from langchain) (0.4.1)\n",
            "Requirement already satisfied: pydantic<3.0.0,>=2.7.4 in /usr/local/lib/python3.11/dist-packages (from langchain) (2.11.7)\n",
            "Requirement already satisfied: SQLAlchemy<3,>=1.4 in /usr/local/lib/python3.11/dist-packages (from langchain) (2.0.41)\n",
            "Requirement already satisfied: requests<3,>=2 in /usr/local/lib/python3.11/dist-packages (from langchain) (2.32.3)\n",
            "Requirement already satisfied: PyYAML>=5.3 in /usr/local/lib/python3.11/dist-packages (from langchain) (6.0.2)\n",
            "Requirement already satisfied: groq<1,>=0.29.0 in /usr/local/lib/python3.11/dist-packages (from langchain_groq) (0.29.0)\n",
            "Requirement already satisfied: aiohttp<4.0.0,>=3.8.3 in /usr/local/lib/python3.11/dist-packages (from langchain_community) (3.11.15)\n",
            "Requirement already satisfied: tenacity!=8.4.0,<10,>=8.1.0 in /usr/local/lib/python3.11/dist-packages (from langchain_community) (8.5.0)\n",
            "Requirement already satisfied: dataclasses-json<0.7,>=0.5.7 in /usr/local/lib/python3.11/dist-packages (from langchain_community) (0.6.7)\n",
            "Requirement already satisfied: pydantic-settings<3.0.0,>=2.4.0 in /usr/local/lib/python3.11/dist-packages (from langchain_community) (2.10.1)\n",
            "Requirement already satisfied: httpx-sse<1.0.0,>=0.4.0 in /usr/local/lib/python3.11/dist-packages (from langchain_community) (0.4.1)\n",
            "Requirement already satisfied: numpy>=1.26.2 in /usr/local/lib/python3.11/dist-packages (from langchain_community) (2.0.2)\n",
            "Requirement already satisfied: aiohappyeyeballs>=2.3.0 in /usr/local/lib/python3.11/dist-packages (from aiohttp<4.0.0,>=3.8.3->langchain_community) (2.6.1)\n",
            "Requirement already satisfied: aiosignal>=1.1.2 in /usr/local/lib/python3.11/dist-packages (from aiohttp<4.0.0,>=3.8.3->langchain_community) (1.3.2)\n",
            "Requirement already satisfied: attrs>=17.3.0 in /usr/local/lib/python3.11/dist-packages (from aiohttp<4.0.0,>=3.8.3->langchain_community) (25.3.0)\n",
            "Requirement already satisfied: frozenlist>=1.1.1 in /usr/local/lib/python3.11/dist-packages (from aiohttp<4.0.0,>=3.8.3->langchain_community) (1.7.0)\n",
            "Requirement already satisfied: multidict<7.0,>=4.5 in /usr/local/lib/python3.11/dist-packages (from aiohttp<4.0.0,>=3.8.3->langchain_community) (6.4.4)\n",
            "Requirement already satisfied: propcache>=0.2.0 in /usr/local/lib/python3.11/dist-packages (from aiohttp<4.0.0,>=3.8.3->langchain_community) (0.3.2)\n",
            "Requirement already satisfied: yarl<2.0,>=1.17.0 in /usr/local/lib/python3.11/dist-packages (from aiohttp<4.0.0,>=3.8.3->langchain_community) (1.20.1)\n",
            "Requirement already satisfied: marshmallow<4.0.0,>=3.18.0 in /usr/local/lib/python3.11/dist-packages (from dataclasses-json<0.7,>=0.5.7->langchain_community) (3.26.1)\n",
            "Requirement already satisfied: typing-inspect<1,>=0.4.0 in /usr/local/lib/python3.11/dist-packages (from dataclasses-json<0.7,>=0.5.7->langchain_community) (0.9.0)\n",
            "Requirement already satisfied: anyio<5,>=3.5.0 in /usr/local/lib/python3.11/dist-packages (from groq<1,>=0.29.0->langchain_groq) (4.9.0)\n",
            "Requirement already satisfied: distro<2,>=1.7.0 in /usr/local/lib/python3.11/dist-packages (from groq<1,>=0.29.0->langchain_groq) (1.9.0)\n",
            "Requirement already satisfied: httpx<1,>=0.23.0 in /usr/local/lib/python3.11/dist-packages (from groq<1,>=0.29.0->langchain_groq) (0.28.1)\n",
            "Requirement already satisfied: sniffio in /usr/local/lib/python3.11/dist-packages (from groq<1,>=0.29.0->langchain_groq) (1.3.1)\n",
            "Requirement already satisfied: typing-extensions<5,>=4.10 in /usr/local/lib/python3.11/dist-packages (from groq<1,>=0.29.0->langchain_groq) (4.14.0)\n",
            "Requirement already satisfied: jsonpatch<2.0,>=1.33 in /usr/local/lib/python3.11/dist-packages (from langchain-core<1.0.0,>=0.3.66->langchain) (1.33)\n",
            "Requirement already satisfied: packaging<25,>=23.2 in /usr/local/lib/python3.11/dist-packages (from langchain-core<1.0.0,>=0.3.66->langchain) (24.2)\n",
            "Requirement already satisfied: orjson<4.0.0,>=3.9.14 in /usr/local/lib/python3.11/dist-packages (from langsmith>=0.1.17->langchain) (3.10.18)\n",
            "Requirement already satisfied: requests-toolbelt<2.0.0,>=1.0.0 in /usr/local/lib/python3.11/dist-packages (from langsmith>=0.1.17->langchain) (1.0.0)\n",
            "Requirement already satisfied: zstandard<0.24.0,>=0.23.0 in /usr/local/lib/python3.11/dist-packages (from langsmith>=0.1.17->langchain) (0.23.0)\n",
            "Requirement already satisfied: annotated-types>=0.6.0 in /usr/local/lib/python3.11/dist-packages (from pydantic<3.0.0,>=2.7.4->langchain) (0.7.0)\n",
            "Requirement already satisfied: pydantic-core==2.33.2 in /usr/local/lib/python3.11/dist-packages (from pydantic<3.0.0,>=2.7.4->langchain) (2.33.2)\n",
            "Requirement already satisfied: typing-inspection>=0.4.0 in /usr/local/lib/python3.11/dist-packages (from pydantic<3.0.0,>=2.7.4->langchain) (0.4.1)\n",
            "Requirement already satisfied: python-dotenv>=0.21.0 in /usr/local/lib/python3.11/dist-packages (from pydantic-settings<3.0.0,>=2.4.0->langchain_community) (1.1.1)\n",
            "Requirement already satisfied: charset-normalizer<4,>=2 in /usr/local/lib/python3.11/dist-packages (from requests<3,>=2->langchain) (3.4.2)\n",
            "Requirement already satisfied: idna<4,>=2.5 in /usr/local/lib/python3.11/dist-packages (from requests<3,>=2->langchain) (3.10)\n",
            "Requirement already satisfied: urllib3<3,>=1.21.1 in /usr/local/lib/python3.11/dist-packages (from requests<3,>=2->langchain) (2.4.0)\n",
            "Requirement already satisfied: certifi>=2017.4.17 in /usr/local/lib/python3.11/dist-packages (from requests<3,>=2->langchain) (2025.6.15)\n",
            "Requirement already satisfied: greenlet>=1 in /usr/local/lib/python3.11/dist-packages (from SQLAlchemy<3,>=1.4->langchain) (3.2.3)\n",
            "Requirement already satisfied: httpcore==1.* in /usr/local/lib/python3.11/dist-packages (from httpx<1,>=0.23.0->groq<1,>=0.29.0->langchain_groq) (1.0.9)\n",
            "Requirement already satisfied: h11>=0.16 in /usr/local/lib/python3.11/dist-packages (from httpcore==1.*->httpx<1,>=0.23.0->groq<1,>=0.29.0->langchain_groq) (0.16.0)\n",
            "Requirement already satisfied: jsonpointer>=1.9 in /usr/local/lib/python3.11/dist-packages (from jsonpatch<2.0,>=1.33->langchain-core<1.0.0,>=0.3.66->langchain) (3.0.0)\n",
            "Requirement already satisfied: mypy-extensions>=0.3.0 in /usr/local/lib/python3.11/dist-packages (from typing-inspect<1,>=0.4.0->dataclasses-json<0.7,>=0.5.7->langchain_community) (1.1.0)\n"
          ]
        }
      ],
      "source": [
        "#langchain_groq – Integration with Groq LPU-based hardware for fast inference (e.g., LLaMA models).\n",
        "\n",
        "#langchain_community – Community-contributed integrations like APIs, tools, vector stores, etc.\n",
        "\n",
        "!pip install langchain langchain_groq langchain_community"
      ]
    },
    {
      "cell_type": "code",
      "execution_count": null,
      "metadata": {
        "colab": {
          "base_uri": "https://localhost:8080/"
        },
        "id": "wAossbaWM5_2",
        "outputId": "5e8d959d-282e-4bb3-97b3-b74376340c0d"
      },
      "outputs": [],
      "source": [
        "#When working with google colab, you can upload all your secret keys (the key icon on the left side)\n",
        "from google.colab import userdata\n",
        "groq_api_key=userdata.get('groq_api')\n",
        "print(groq_api_key)"
      ]
    },
    {
      "cell_type": "code",
      "execution_count": null,
      "metadata": {
        "colab": {
          "base_uri": "https://localhost:8080/"
        },
        "id": "VmlmmAtiNbRP",
        "outputId": "f4e2b3c7-9faa-4966-a353-96f5a59045d5"
      },
      "outputs": [],
      "source": [
        "langsmith_api_key=userdata.get('langsmith_api')\n",
        "print(langsmith_api_key)"
      ]
    },
    {
      "cell_type": "code",
      "execution_count": 11,
      "metadata": {
        "id": "tILzH7BtPYGW"
      },
      "outputs": [],
      "source": [
        "import os\n",
        "os.environ[\"LANGCHAIN_API_KEY\"] = langsmith_api_key\n",
        "os.environ[\"LANGCHAIN_TRACING_V2\"]=\"true\" #keep the tracing\n",
        "os.environ[\"LANGCHAIN_PROJECT\"]=\"CourseLanggraph\" #project name"
      ]
    },
    {
      "cell_type": "code",
      "execution_count": 12,
      "metadata": {
        "id": "EOWvACCaQKyp"
      },
      "outputs": [],
      "source": [
        "from langchain_groq import ChatGroq"
      ]
    },
    {
      "cell_type": "code",
      "execution_count": 41,
      "metadata": {
        "colab": {
          "base_uri": "https://localhost:8080/"
        },
        "id": "g9H0ldt_QkYk",
        "outputId": "f777f8a4-f7b9-46b2-8cfd-edff8101ae14"
      },
      "outputs": [
        {
          "data": {
            "text/plain": [
              "ChatGroq(client=<groq.resources.chat.completions.Completions object at 0x7c08330fe990>, async_client=<groq.resources.chat.completions.AsyncCompletions object at 0x7c0833107690>, model_name='gemma2-9b-it', model_kwargs={}, groq_api_key=SecretStr('**********'))"
            ]
          },
          "execution_count": 41,
          "metadata": {},
          "output_type": "execute_result"
        }
      ],
      "source": [
        "#making llm model\n",
        "llm=ChatGroq(groq_api_key=groq_api_key, model_name=\"gemma2-9b-it\")\n",
        "llm"
      ]
    },
    {
      "cell_type": "markdown",
      "metadata": {
        "id": "FUfjnj_zRLv4"
      },
      "source": [
        "##PROJECT CHATBOT"
      ]
    },
    {
      "cell_type": "code",
      "execution_count": 42,
      "metadata": {
        "id": "sQrVwyJjRE43"
      },
      "outputs": [],
      "source": [
        "from typing import Annotated\n",
        "from typing_extensions import TypedDict\n",
        "#state graph - to manage state, it needs to keep on changing based on some parameters,\n",
        "#START - start node, END - end node\n",
        "from langgraph.graph import StateGraph, START, END\n",
        "#add_messages-> when user is giving a query, LLM model is giving a response,\n",
        "#when LLM is giving a repsonse the message will get added over .message,\n",
        "#and my STATE of the chatbot will also get changed\n",
        "from langgraph.graph.message import add_messages"
      ]
    },
    {
      "cell_type": "code",
      "execution_count": 43,
      "metadata": {
        "id": "gt9K5CZKRwFh"
      },
      "outputs": [],
      "source": [
        "#to control the entire state management ->class is inhereting the typedDict\n",
        "class State(TypedDict):\n",
        "  # Messages have the type \"list\". The `add_messages` function\n",
        "    # in the annotation defines how this state key should be updated\n",
        "    # (in this case, add_messages adds messages to the list, rather than overwriting them)\n",
        "  messages:Annotated[list,add_messages]\n",
        "#after every add we will change the state, this State will manage entire state management\n",
        "graph_builder=StateGraph(State)"
      ]
    },
    {
      "cell_type": "code",
      "execution_count": 44,
      "metadata": {
        "colab": {
          "base_uri": "https://localhost:8080/"
        },
        "id": "tBfH0GiZS4ra",
        "outputId": "8f2cbb00-d64d-45a6-e2b7-02582641affd"
      },
      "outputs": [
        {
          "data": {
            "text/plain": [
              "<langgraph.graph.state.StateGraph at 0x7c0832eb7010>"
            ]
          },
          "execution_count": 44,
          "metadata": {},
          "output_type": "execute_result"
        }
      ],
      "source": [
        "graph_builder"
      ]
    },
    {
      "cell_type": "code",
      "execution_count": 45,
      "metadata": {
        "id": "cU-uqe1STIXb"
      },
      "outputs": [],
      "source": [
        "#after any response from the chatbot, we need to update the message variable\n",
        "def chatbot(state:State):\n",
        "  return {\"messages\": llm.invoke(state['messages'])}\n",
        "\n",
        "#the messages will be invoking from the state messages, which will have the user queries\n",
        "#whenever a user queries it will append in messages:Annotated[list,add_messages] here,\n",
        "#once it does that we just going to invoke that, and return this"
      ]
    },
    {
      "cell_type": "code",
      "execution_count": 46,
      "metadata": {
        "colab": {
          "base_uri": "https://localhost:8080/"
        },
        "id": "ThAnTj_vT_di",
        "outputId": "908a0432-1a51-4688-d0b7-ee1a428b36e9"
      },
      "outputs": [
        {
          "data": {
            "text/plain": [
              "<langgraph.graph.state.StateGraph at 0x7c0832eb7010>"
            ]
          },
          "execution_count": 46,
          "metadata": {},
          "output_type": "execute_result"
        }
      ],
      "source": [
        "graph_builder.add_node(\"chatbot\", chatbot)"
      ]
    },
    {
      "cell_type": "code",
      "execution_count": 47,
      "metadata": {
        "colab": {
          "base_uri": "https://localhost:8080/"
        },
        "id": "8J1JWGYBT75C",
        "outputId": "812fbae8-9cad-48fa-8991-6866455af7f7"
      },
      "outputs": [
        {
          "data": {
            "text/plain": [
              "<langgraph.graph.state.StateGraph at 0x7c0832eb7010>"
            ]
          },
          "execution_count": 47,
          "metadata": {},
          "output_type": "execute_result"
        }
      ],
      "source": [
        "graph_builder"
      ]
    },
    {
      "cell_type": "code",
      "execution_count": 48,
      "metadata": {
        "colab": {
          "base_uri": "https://localhost:8080/"
        },
        "id": "T71vD0KOUUeE",
        "outputId": "ec12c97e-e891-4426-9d9e-094e5e926bea"
      },
      "outputs": [
        {
          "data": {
            "text/plain": [
              "<langgraph.graph.state.StateGraph at 0x7c0832eb7010>"
            ]
          },
          "execution_count": 48,
          "metadata": {},
          "output_type": "execute_result"
        }
      ],
      "source": [
        "graph_builder.add_edge(START,\"chatbot\")\n",
        "graph_builder.add_edge(\"chatbot\",END)"
      ]
    },
    {
      "cell_type": "code",
      "execution_count": 49,
      "metadata": {
        "id": "QJh9qLeTUV3K"
      },
      "outputs": [],
      "source": [
        "graph=graph_builder.compile()"
      ]
    },
    {
      "cell_type": "code",
      "execution_count": 50,
      "metadata": {
        "colab": {
          "base_uri": "https://localhost:8080/",
          "height": 251
        },
        "id": "4AD5d9oJUWR3",
        "outputId": "f76cc65e-c9a0-4737-e7b0-c7a7af1200b6"
      },
      "outputs": [
        {
          "data": {
            "image/png": "[encoded data removed]",
            "text/plain": [
              "<IPython.core.display.Image object>"
            ]
          },
          "metadata": {},
          "output_type": "display_data"
        }
      ],
      "source": [
        "from IPython.display import Image, display\n",
        "try:\n",
        "  display(Image(graph.get_graph().draw_mermaid_png()))\n",
        "except Exception:\n",
        "  pass"
      ]
    },
    {
      "cell_type": "code",
      "execution_count": 51,
      "metadata": {
        "colab": {
          "base_uri": "https://localhost:8080/"
        },
        "id": "5XFzIg6EUZPr",
        "outputId": "e5610fcc-9fd6-448c-8c83-64c09a6755b2"
      },
      "outputs": [
        {
          "name": "stdout",
          "output_type": "stream",
          "text": [
            "User: hello\n",
            "dict_values([{'messages': AIMessage(content='Hello! 👋  How can I help you today? 😊\\n', additional_kwargs={}, response_metadata={'token_usage': {'completion_tokens': 15, 'prompt_tokens': 11, 'total_tokens': 26, 'completion_time': 0.027272727, 'prompt_time': 0.001893991, 'queue_time': 0.020254331, 'total_time': 0.029166718}, 'model_name': 'gemma2-9b-it', 'system_fingerprint': 'fp_10c08bf97d', 'finish_reason': 'stop', 'logprobs': None}, id='run--c7ecfd3e-c431-42ad-9355-360e68922b1d-0', usage_metadata={'input_tokens': 11, 'output_tokens': 15, 'total_tokens': 26})}])\n",
            "content='Hello! 👋  How can I help you today? 😊\\n' additional_kwargs={} response_metadata={'token_usage': {'completion_tokens': 15, 'prompt_tokens': 11, 'total_tokens': 26, 'completion_time': 0.027272727, 'prompt_time': 0.001893991, 'queue_time': 0.020254331, 'total_time': 0.029166718}, 'model_name': 'gemma2-9b-it', 'system_fingerprint': 'fp_10c08bf97d', 'finish_reason': 'stop', 'logprobs': None} id='run--c7ecfd3e-c431-42ad-9355-360e68922b1d-0' usage_metadata={'input_tokens': 11, 'output_tokens': 15, 'total_tokens': 26}\n",
            "Assistant: Hello! 👋  How can I help you today? 😊\n",
            "\n",
            "User: how are you?\n",
            "dict_values([{'messages': AIMessage(content=\"As a large language model, I don't have feelings or experiences like humans do. However, I'm here and ready to assist you with any questions or tasks you may have!\\n\\nHow can I help you today?\\n\", additional_kwargs={}, response_metadata={'token_usage': {'completion_tokens': 49, 'prompt_tokens': 13, 'total_tokens': 62, 'completion_time': 0.089090909, 'prompt_time': 0.00187493, 'queue_time': 0.015895707999999998, 'total_time': 0.090965839}, 'model_name': 'gemma2-9b-it', 'system_fingerprint': 'fp_10c08bf97d', 'finish_reason': 'stop', 'logprobs': None}, id='run--5dd4fdfd-5b2c-47d0-85f6-77206863c1e4-0', usage_metadata={'input_tokens': 13, 'output_tokens': 49, 'total_tokens': 62})}])\n",
            "content=\"As a large language model, I don't have feelings or experiences like humans do. However, I'm here and ready to assist you with any questions or tasks you may have!\\n\\nHow can I help you today?\\n\" additional_kwargs={} response_metadata={'token_usage': {'completion_tokens': 49, 'prompt_tokens': 13, 'total_tokens': 62, 'completion_time': 0.089090909, 'prompt_time': 0.00187493, 'queue_time': 0.015895707999999998, 'total_time': 0.090965839}, 'model_name': 'gemma2-9b-it', 'system_fingerprint': 'fp_10c08bf97d', 'finish_reason': 'stop', 'logprobs': None} id='run--5dd4fdfd-5b2c-47d0-85f6-77206863c1e4-0' usage_metadata={'input_tokens': 13, 'output_tokens': 49, 'total_tokens': 62}\n",
            "Assistant: As a large language model, I don't have feelings or experiences like humans do. However, I'm here and ready to assist you with any questions or tasks you may have!\n",
            "\n",
            "How can I help you today?\n",
            "\n",
            "User: tell me about langsmith\n",
            "dict_values([{'messages': AIMessage(content=\"Langsmith is a powerful open-source framework developed by Google DeepMind that aims to simplify the process of building and deploying large language models (LLMs). \\n\\nHere's what you need to know about Langsmith:\\n\\n**Key Features:**\\n\\n* **Modular Design:** Langsmith breaks down the LLM development process into manageable modules, making it easier to understand and customize. \\n* **Pipeline-Based Workflow:** It utilizes a pipeline architecture, allowing you to chain together different components (e.g., tokenizers, model architectures, trainers) for a streamlined workflow.\\n* **Model Agnostic:** Langsmith is designed to be compatible with a variety of LLMs, including those from different frameworks like TensorFlow and PyTorch.\\n* **Fine-Tuning and Evaluation Tools:** It provides tools for fine-tuning pre-trained LLMs on specific tasks and evaluating their performance.\\n* **Visualization and Debugging:**  Langsmith offers visualization tools to help you understand how your LLM is performing and identify potential issues.\\n\\n**Benefits:**\\n\\n* **Increased Accessibility:** By simplifying the development process, Langsmith makes LLMs more accessible to a wider range of researchers and developers.\\n* **Faster Development Cycles:**  The modular and pipeline-based design accelerates the development and deployment of LLMs.\\n* **Improved Collaboration:**  Langsmith's open-source nature fosters collaboration and knowledge sharing within the AI community.\\n\\n**Use Cases:**\\n\\n* **Text Generation:** Creating stories, articles, summaries, and other types of text.\\n* **Dialogue Systems:** Building chatbots and conversational agents.\\n* **Code Generation:** Assisting in writing and debugging code.\\n* **Machine Translation:** Translating text between languages.\\n* **Question Answering:** Providing answers to questions based on a given context.\\n\\n**Getting Started:**\\n\\nYou can find more information about Langsmith, including documentation, tutorials, and code examples, on the official website: [https://github.com/deepmind/langsmith](https://github.com/deepmind/langsmith)\\n\\n\\nLet me know if you have any other questions about Langsmith or LLMs in general.\\n\", additional_kwargs={}, response_metadata={'token_usage': {'completion_tokens': 443, 'prompt_tokens': 14, 'total_tokens': 457, 'completion_time': 0.805454545, 'prompt_time': 0.001840641, 'queue_time': 0.019497922, 'total_time': 0.807295186}, 'model_name': 'gemma2-9b-it', 'system_fingerprint': 'fp_10c08bf97d', 'finish_reason': 'stop', 'logprobs': None}, id='run--b98524bc-8653-4dcd-8a9e-7a56c55397cc-0', usage_metadata={'input_tokens': 14, 'output_tokens': 443, 'total_tokens': 457})}])\n",
            "content=\"Langsmith is a powerful open-source framework developed by Google DeepMind that aims to simplify the process of building and deploying large language models (LLMs). \\n\\nHere's what you need to know about Langsmith:\\n\\n**Key Features:**\\n\\n* **Modular Design:** Langsmith breaks down the LLM development process into manageable modules, making it easier to understand and customize. \\n* **Pipeline-Based Workflow:** It utilizes a pipeline architecture, allowing you to chain together different components (e.g., tokenizers, model architectures, trainers) for a streamlined workflow.\\n* **Model Agnostic:** Langsmith is designed to be compatible with a variety of LLMs, including those from different frameworks like TensorFlow and PyTorch.\\n* **Fine-Tuning and Evaluation Tools:** It provides tools for fine-tuning pre-trained LLMs on specific tasks and evaluating their performance.\\n* **Visualization and Debugging:**  Langsmith offers visualization tools to help you understand how your LLM is performing and identify potential issues.\\n\\n**Benefits:**\\n\\n* **Increased Accessibility:** By simplifying the development process, Langsmith makes LLMs more accessible to a wider range of researchers and developers.\\n* **Faster Development Cycles:**  The modular and pipeline-based design accelerates the development and deployment of LLMs.\\n* **Improved Collaboration:**  Langsmith's open-source nature fosters collaboration and knowledge sharing within the AI community.\\n\\n**Use Cases:**\\n\\n* **Text Generation:** Creating stories, articles, summaries, and other types of text.\\n* **Dialogue Systems:** Building chatbots and conversational agents.\\n* **Code Generation:** Assisting in writing and debugging code.\\n* **Machine Translation:** Translating text between languages.\\n* **Question Answering:** Providing answers to questions based on a given context.\\n\\n**Getting Started:**\\n\\nYou can find more information about Langsmith, including documentation, tutorials, and code examples, on the official website: [https://github.com/deepmind/langsmith](https://github.com/deepmind/langsmith)\\n\\n\\nLet me know if you have any other questions about Langsmith or LLMs in general.\\n\" additional_kwargs={} response_metadata={'token_usage': {'completion_tokens': 443, 'prompt_tokens': 14, 'total_tokens': 457, 'completion_time': 0.805454545, 'prompt_time': 0.001840641, 'queue_time': 0.019497922, 'total_time': 0.807295186}, 'model_name': 'gemma2-9b-it', 'system_fingerprint': 'fp_10c08bf97d', 'finish_reason': 'stop', 'logprobs': None} id='run--b98524bc-8653-4dcd-8a9e-7a56c55397cc-0' usage_metadata={'input_tokens': 14, 'output_tokens': 443, 'total_tokens': 457}\n",
            "Assistant: Langsmith is a powerful open-source framework developed by Google DeepMind that aims to simplify the process of building and deploying large language models (LLMs). \n",
            "\n",
            "Here's what you need to know about Langsmith:\n",
            "\n",
            "**Key Features:**\n",
            "\n",
            "* **Modular Design:** Langsmith breaks down the LLM development process into manageable modules, making it easier to understand and customize. \n",
            "* **Pipeline-Based Workflow:** It utilizes a pipeline architecture, allowing you to chain together different components (e.g., tokenizers, model architectures, trainers) for a streamlined workflow.\n",
            "* **Model Agnostic:** Langsmith is designed to be compatible with a variety of LLMs, including those from different frameworks like TensorFlow and PyTorch.\n",
            "* **Fine-Tuning and Evaluation Tools:** It provides tools for fine-tuning pre-trained LLMs on specific tasks and evaluating their performance.\n",
            "* **Visualization and Debugging:**  Langsmith offers visualization tools to help you understand how your LLM is performing and identify potential issues.\n",
            "\n",
            "**Benefits:**\n",
            "\n",
            "* **Increased Accessibility:** By simplifying the development process, Langsmith makes LLMs more accessible to a wider range of researchers and developers.\n",
            "* **Faster Development Cycles:**  The modular and pipeline-based design accelerates the development and deployment of LLMs.\n",
            "* **Improved Collaboration:**  Langsmith's open-source nature fosters collaboration and knowledge sharing within the AI community.\n",
            "\n",
            "**Use Cases:**\n",
            "\n",
            "* **Text Generation:** Creating stories, articles, summaries, and other types of text.\n",
            "* **Dialogue Systems:** Building chatbots and conversational agents.\n",
            "* **Code Generation:** Assisting in writing and debugging code.\n",
            "* **Machine Translation:** Translating text between languages.\n",
            "* **Question Answering:** Providing answers to questions based on a given context.\n",
            "\n",
            "**Getting Started:**\n",
            "\n",
            "You can find more information about Langsmith, including documentation, tutorials, and code examples, on the official website: [https://github.com/deepmind/langsmith](https://github.com/deepmind/langsmith)\n",
            "\n",
            "\n",
            "Let me know if you have any other questions about Langsmith or LLMs in general.\n",
            "\n",
            "User: why do people use chatgpt?\n",
            "dict_values([{'messages': AIMessage(content=\"People use me, ChatGPT, for a variety of reasons. Here are some of the most common:\\n\\n**Creativity:**\\n\\n* **Writing assistance:** I can help brainstorm ideas, overcome writer's block, and generate different creative text formats, like poems, code, scripts, musical pieces, email, letters, etc.\\n* **Storytelling:** I can be used to create interactive fiction, generate story ideas, or even write entire stories.\\n\\n**Learning and Research:**\\n\\n* **Information gathering:** I can provide summaries of factual topics, answer questions based on my training data, and offer different perspectives on a subject.\\n* **Language learning:** I can translate languages, provide definitions, and engage in conversations to help improve language skills.\\n\\n**Productivity:**\\n\\n* **Summarizing text:** I can condense large amounts of information into shorter, more manageable summaries.\\n* **Drafting emails and documents:** I can help you structure and write professional emails, reports, and other documents.\\n* **Code generation:** I can generate code in multiple programming languages, which can be helpful for developers.\\n\\n**Fun and Entertainment:**\\n\\n* **Chatting:** I can engage in casual conversation on a wide range of topics.\\n* **Roleplaying:** I can play different characters in interactive storytelling scenarios.\\n* **Generating jokes and riddles:** I can provide some lighthearted entertainment.\\n\\n**It's important to remember that I am still under development and my abilities are constantly evolving.** I am not a human and I do not have personal experiences or feelings. I am a tool that can be used for many purposes, and the way people use me depends on their individual needs and creativity.\\n\", additional_kwargs={}, response_metadata={'token_usage': {'completion_tokens': 344, 'prompt_tokens': 16, 'total_tokens': 360, 'completion_time': 0.625454545, 'prompt_time': 0.00190219, 'queue_time': 0.015474915, 'total_time': 0.627356735}, 'model_name': 'gemma2-9b-it', 'system_fingerprint': 'fp_10c08bf97d', 'finish_reason': 'stop', 'logprobs': None}, id='run--585a5a26-5582-47c4-94f4-9e4e430cd701-0', usage_metadata={'input_tokens': 16, 'output_tokens': 344, 'total_tokens': 360})}])\n",
            "content=\"People use me, ChatGPT, for a variety of reasons. Here are some of the most common:\\n\\n**Creativity:**\\n\\n* **Writing assistance:** I can help brainstorm ideas, overcome writer's block, and generate different creative text formats, like poems, code, scripts, musical pieces, email, letters, etc.\\n* **Storytelling:** I can be used to create interactive fiction, generate story ideas, or even write entire stories.\\n\\n**Learning and Research:**\\n\\n* **Information gathering:** I can provide summaries of factual topics, answer questions based on my training data, and offer different perspectives on a subject.\\n* **Language learning:** I can translate languages, provide definitions, and engage in conversations to help improve language skills.\\n\\n**Productivity:**\\n\\n* **Summarizing text:** I can condense large amounts of information into shorter, more manageable summaries.\\n* **Drafting emails and documents:** I can help you structure and write professional emails, reports, and other documents.\\n* **Code generation:** I can generate code in multiple programming languages, which can be helpful for developers.\\n\\n**Fun and Entertainment:**\\n\\n* **Chatting:** I can engage in casual conversation on a wide range of topics.\\n* **Roleplaying:** I can play different characters in interactive storytelling scenarios.\\n* **Generating jokes and riddles:** I can provide some lighthearted entertainment.\\n\\n**It's important to remember that I am still under development and my abilities are constantly evolving.** I am not a human and I do not have personal experiences or feelings. I am a tool that can be used for many purposes, and the way people use me depends on their individual needs and creativity.\\n\" additional_kwargs={} response_metadata={'token_usage': {'completion_tokens': 344, 'prompt_tokens': 16, 'total_tokens': 360, 'completion_time': 0.625454545, 'prompt_time': 0.00190219, 'queue_time': 0.015474915, 'total_time': 0.627356735}, 'model_name': 'gemma2-9b-it', 'system_fingerprint': 'fp_10c08bf97d', 'finish_reason': 'stop', 'logprobs': None} id='run--585a5a26-5582-47c4-94f4-9e4e430cd701-0' usage_metadata={'input_tokens': 16, 'output_tokens': 344, 'total_tokens': 360}\n",
            "Assistant: People use me, ChatGPT, for a variety of reasons. Here are some of the most common:\n",
            "\n",
            "**Creativity:**\n",
            "\n",
            "* **Writing assistance:** I can help brainstorm ideas, overcome writer's block, and generate different creative text formats, like poems, code, scripts, musical pieces, email, letters, etc.\n",
            "* **Storytelling:** I can be used to create interactive fiction, generate story ideas, or even write entire stories.\n",
            "\n",
            "**Learning and Research:**\n",
            "\n",
            "* **Information gathering:** I can provide summaries of factual topics, answer questions based on my training data, and offer different perspectives on a subject.\n",
            "* **Language learning:** I can translate languages, provide definitions, and engage in conversations to help improve language skills.\n",
            "\n",
            "**Productivity:**\n",
            "\n",
            "* **Summarizing text:** I can condense large amounts of information into shorter, more manageable summaries.\n",
            "* **Drafting emails and documents:** I can help you structure and write professional emails, reports, and other documents.\n",
            "* **Code generation:** I can generate code in multiple programming languages, which can be helpful for developers.\n",
            "\n",
            "**Fun and Entertainment:**\n",
            "\n",
            "* **Chatting:** I can engage in casual conversation on a wide range of topics.\n",
            "* **Roleplaying:** I can play different characters in interactive storytelling scenarios.\n",
            "* **Generating jokes and riddles:** I can provide some lighthearted entertainment.\n",
            "\n",
            "**It's important to remember that I am still under development and my abilities are constantly evolving.** I am not a human and I do not have personal experiences or feelings. I am a tool that can be used for many purposes, and the way people use me depends on their individual needs and creativity.\n",
            "\n",
            "User: Do you think I should end this bot\n",
            "dict_values([{'messages': AIMessage(content=\"As an AI, I don't have personal opinions or beliefs, so I can't tell you whether or not you should end this bot. That decision is entirely up to you!\\n\\nHere are some things to consider:\\n\\n* **Why did you create this bot in the first place?** Has it fulfilled its purpose?\\n* **Are you still finding it useful?** Do you enjoy interacting with it?\\n* **Does it require a significant amount of your time and resources to maintain?** \\n* **Are there any ethical concerns you have about its continued existence?**\\n\\nUltimately, the best decision is the one that aligns with your goals and values.\\n\", additional_kwargs={}, response_metadata={'token_usage': {'completion_tokens': 140, 'prompt_tokens': 17, 'total_tokens': 157, 'completion_time': 0.254545455, 'prompt_time': 0.00199191, 'queue_time': 0.020241552, 'total_time': 0.256537365}, 'model_name': 'gemma2-9b-it', 'system_fingerprint': 'fp_10c08bf97d', 'finish_reason': 'stop', 'logprobs': None}, id='run--9f0b0622-9bc0-4b55-b4eb-f15b38ead21f-0', usage_metadata={'input_tokens': 17, 'output_tokens': 140, 'total_tokens': 157})}])\n",
            "content=\"As an AI, I don't have personal opinions or beliefs, so I can't tell you whether or not you should end this bot. That decision is entirely up to you!\\n\\nHere are some things to consider:\\n\\n* **Why did you create this bot in the first place?** Has it fulfilled its purpose?\\n* **Are you still finding it useful?** Do you enjoy interacting with it?\\n* **Does it require a significant amount of your time and resources to maintain?** \\n* **Are there any ethical concerns you have about its continued existence?**\\n\\nUltimately, the best decision is the one that aligns with your goals and values.\\n\" additional_kwargs={} response_metadata={'token_usage': {'completion_tokens': 140, 'prompt_tokens': 17, 'total_tokens': 157, 'completion_time': 0.254545455, 'prompt_time': 0.00199191, 'queue_time': 0.020241552, 'total_time': 0.256537365}, 'model_name': 'gemma2-9b-it', 'system_fingerprint': 'fp_10c08bf97d', 'finish_reason': 'stop', 'logprobs': None} id='run--9f0b0622-9bc0-4b55-b4eb-f15b38ead21f-0' usage_metadata={'input_tokens': 17, 'output_tokens': 140, 'total_tokens': 157}\n",
            "Assistant: As an AI, I don't have personal opinions or beliefs, so I can't tell you whether or not you should end this bot. That decision is entirely up to you!\n",
            "\n",
            "Here are some things to consider:\n",
            "\n",
            "* **Why did you create this bot in the first place?** Has it fulfilled its purpose?\n",
            "* **Are you still finding it useful?** Do you enjoy interacting with it?\n",
            "* **Does it require a significant amount of your time and resources to maintain?** \n",
            "* **Are there any ethical concerns you have about its continued existence?**\n",
            "\n",
            "Ultimately, the best decision is the one that aligns with your goals and values.\n",
            "\n",
            "User: should i leanr python or java?\n",
            "dict_values([{'messages': AIMessage(content=\"That depends entirely on what you want to achieve! \\n\\n**Python** is generally considered easier to learn, with a more readable syntax. It's incredibly versatile and popular in:\\n\\n* **Data science and machine learning:** Python has powerful libraries like Pandas, NumPy, and scikit-learn that make it a go-to for data analysis, visualization, and building AI models.\\n* **Web development:** Frameworks like Django and Flask simplify web app creation.\\n* **Scripting and automation:** Python excels at automating tasks, from system administration to web scraping.\\n\\n**Java** is a more robust and complex language, known for its:\\n\\n* **Enterprise-level applications:** Java is widely used in large-scale, complex systems like financial applications and enterprise software.\\n* **Android development:** Java is the primary language for developing Android apps.\\n* **Performance and scalability:** Java is compiled to bytecode, which runs faster than interpreted languages like Python.\\n\\n**Here's a breakdown to help you decide:**\\n\\n| Feature        | Python                                      | Java                                       |\\n|----------------|--------------------------------------------|-------------------------------------------|\\n| Learning curve | Easier                                      | Steeper                                     |\\n| Syntax         | Readable, beginner-friendly                 | More verbose, can be harder to grasp        |\\n| Applications   | Data science, web development, scripting   | Enterprise applications, Android apps      |\\n| Performance    | Generally slower                            | Faster, more scalable                       |\\n| Community       | Large and active                             | Extensive and well-established            |\\n\\n**Ultimately, the best choice depends on your goals:**\\n\\n* **If you're new to programming or want to start with something easier, Python is a great option.**\\n* **If you're interested in building large-scale, enterprise-level applications or Android apps, Java is a better choice.**\\n\\n\\nNo matter which language you choose, remember that the most important thing is to start learning and practicing!\\n\", additional_kwargs={}, response_metadata={'token_usage': {'completion_tokens': 411, 'prompt_tokens': 17, 'total_tokens': 428, 'completion_time': 0.747272727, 'prompt_time': 0.001850451, 'queue_time': 0.014835918, 'total_time': 0.749123178}, 'model_name': 'gemma2-9b-it', 'system_fingerprint': 'fp_10c08bf97d', 'finish_reason': 'stop', 'logprobs': None}, id='run--e72fbd35-1553-4d4a-b8cb-07fc46271631-0', usage_metadata={'input_tokens': 17, 'output_tokens': 411, 'total_tokens': 428})}])\n",
            "content=\"That depends entirely on what you want to achieve! \\n\\n**Python** is generally considered easier to learn, with a more readable syntax. It's incredibly versatile and popular in:\\n\\n* **Data science and machine learning:** Python has powerful libraries like Pandas, NumPy, and scikit-learn that make it a go-to for data analysis, visualization, and building AI models.\\n* **Web development:** Frameworks like Django and Flask simplify web app creation.\\n* **Scripting and automation:** Python excels at automating tasks, from system administration to web scraping.\\n\\n**Java** is a more robust and complex language, known for its:\\n\\n* **Enterprise-level applications:** Java is widely used in large-scale, complex systems like financial applications and enterprise software.\\n* **Android development:** Java is the primary language for developing Android apps.\\n* **Performance and scalability:** Java is compiled to bytecode, which runs faster than interpreted languages like Python.\\n\\n**Here's a breakdown to help you decide:**\\n\\n| Feature        | Python                                      | Java                                       |\\n|----------------|--------------------------------------------|-------------------------------------------|\\n| Learning curve | Easier                                      | Steeper                                     |\\n| Syntax         | Readable, beginner-friendly                 | More verbose, can be harder to grasp        |\\n| Applications   | Data science, web development, scripting   | Enterprise applications, Android apps      |\\n| Performance    | Generally slower                            | Faster, more scalable                       |\\n| Community       | Large and active                             | Extensive and well-established            |\\n\\n**Ultimately, the best choice depends on your goals:**\\n\\n* **If you're new to programming or want to start with something easier, Python is a great option.**\\n* **If you're interested in building large-scale, enterprise-level applications or Android apps, Java is a better choice.**\\n\\n\\nNo matter which language you choose, remember that the most important thing is to start learning and practicing!\\n\" additional_kwargs={} response_metadata={'token_usage': {'completion_tokens': 411, 'prompt_tokens': 17, 'total_tokens': 428, 'completion_time': 0.747272727, 'prompt_time': 0.001850451, 'queue_time': 0.014835918, 'total_time': 0.749123178}, 'model_name': 'gemma2-9b-it', 'system_fingerprint': 'fp_10c08bf97d', 'finish_reason': 'stop', 'logprobs': None} id='run--e72fbd35-1553-4d4a-b8cb-07fc46271631-0' usage_metadata={'input_tokens': 17, 'output_tokens': 411, 'total_tokens': 428}\n",
            "Assistant: That depends entirely on what you want to achieve! \n",
            "\n",
            "**Python** is generally considered easier to learn, with a more readable syntax. It's incredibly versatile and popular in:\n",
            "\n",
            "* **Data science and machine learning:** Python has powerful libraries like Pandas, NumPy, and scikit-learn that make it a go-to for data analysis, visualization, and building AI models.\n",
            "* **Web development:** Frameworks like Django and Flask simplify web app creation.\n",
            "* **Scripting and automation:** Python excels at automating tasks, from system administration to web scraping.\n",
            "\n",
            "**Java** is a more robust and complex language, known for its:\n",
            "\n",
            "* **Enterprise-level applications:** Java is widely used in large-scale, complex systems like financial applications and enterprise software.\n",
            "* **Android development:** Java is the primary language for developing Android apps.\n",
            "* **Performance and scalability:** Java is compiled to bytecode, which runs faster than interpreted languages like Python.\n",
            "\n",
            "**Here's a breakdown to help you decide:**\n",
            "\n",
            "| Feature        | Python                                      | Java                                       |\n",
            "|----------------|--------------------------------------------|-------------------------------------------|\n",
            "| Learning curve | Easier                                      | Steeper                                     |\n",
            "| Syntax         | Readable, beginner-friendly                 | More verbose, can be harder to grasp        |\n",
            "| Applications   | Data science, web development, scripting   | Enterprise applications, Android apps      |\n",
            "| Performance    | Generally slower                            | Faster, more scalable                       |\n",
            "| Community       | Large and active                             | Extensive and well-established            |\n",
            "\n",
            "**Ultimately, the best choice depends on your goals:**\n",
            "\n",
            "* **If you're new to programming or want to start with something easier, Python is a great option.**\n",
            "* **If you're interested in building large-scale, enterprise-level applications or Android apps, Java is a better choice.**\n",
            "\n",
            "\n",
            "No matter which language you choose, remember that the most important thing is to start learning and practicing!\n",
            "\n",
            "User: okay thanks\n",
            "dict_values([{'messages': AIMessage(content=\"You're welcome! Is there anything else I can help you with? 😊\\n\", additional_kwargs={}, response_metadata={'token_usage': {'completion_tokens': 19, 'prompt_tokens': 11, 'total_tokens': 30, 'completion_time': 0.034545455, 'prompt_time': 0.00187452, 'queue_time': 0.020096111, 'total_time': 0.036419975}, 'model_name': 'gemma2-9b-it', 'system_fingerprint': 'fp_10c08bf97d', 'finish_reason': 'stop', 'logprobs': None}, id='run--8c5c2ac2-487c-455a-9ff8-fcca0a4890fd-0', usage_metadata={'input_tokens': 11, 'output_tokens': 19, 'total_tokens': 30})}])\n",
            "content=\"You're welcome! Is there anything else I can help you with? 😊\\n\" additional_kwargs={} response_metadata={'token_usage': {'completion_tokens': 19, 'prompt_tokens': 11, 'total_tokens': 30, 'completion_time': 0.034545455, 'prompt_time': 0.00187452, 'queue_time': 0.020096111, 'total_time': 0.036419975}, 'model_name': 'gemma2-9b-it', 'system_fingerprint': 'fp_10c08bf97d', 'finish_reason': 'stop', 'logprobs': None} id='run--8c5c2ac2-487c-455a-9ff8-fcca0a4890fd-0' usage_metadata={'input_tokens': 11, 'output_tokens': 19, 'total_tokens': 30}\n",
            "Assistant: You're welcome! Is there anything else I can help you with? 😊\n",
            "\n",
            "User: bye\n",
            "dict_values([{'messages': AIMessage(content='Goodbye! Have a great day. 😊  \\n\\nLet me know if you have any other questions in the future.\\n', additional_kwargs={}, response_metadata={'token_usage': {'completion_tokens': 26, 'prompt_tokens': 11, 'total_tokens': 37, 'completion_time': 0.047272727, 'prompt_time': 0.00184022, 'queue_time': 0.014719124, 'total_time': 0.049112947}, 'model_name': 'gemma2-9b-it', 'system_fingerprint': 'fp_10c08bf97d', 'finish_reason': 'stop', 'logprobs': None}, id='run--078284a6-cae0-4f98-a325-a74711019a71-0', usage_metadata={'input_tokens': 11, 'output_tokens': 26, 'total_tokens': 37})}])\n",
            "content='Goodbye! Have a great day. 😊  \\n\\nLet me know if you have any other questions in the future.\\n' additional_kwargs={} response_metadata={'token_usage': {'completion_tokens': 26, 'prompt_tokens': 11, 'total_tokens': 37, 'completion_time': 0.047272727, 'prompt_time': 0.00184022, 'queue_time': 0.014719124, 'total_time': 0.049112947}, 'model_name': 'gemma2-9b-it', 'system_fingerprint': 'fp_10c08bf97d', 'finish_reason': 'stop', 'logprobs': None} id='run--078284a6-cae0-4f98-a325-a74711019a71-0' usage_metadata={'input_tokens': 11, 'output_tokens': 26, 'total_tokens': 37}\n",
            "Assistant: Goodbye! Have a great day. 😊  \n",
            "\n",
            "Let me know if you have any other questions in the future.\n",
            "\n",
            "User: Good bye\n",
            "dict_values([{'messages': AIMessage(content='Goodbye! Have a wonderful day. 😊\\n', additional_kwargs={}, response_metadata={'token_usage': {'completion_tokens': 11, 'prompt_tokens': 11, 'total_tokens': 22, 'completion_time': 0.02, 'prompt_time': 0.001920151, 'queue_time': 0.017204082000000002, 'total_time': 0.021920151}, 'model_name': 'gemma2-9b-it', 'system_fingerprint': 'fp_10c08bf97d', 'finish_reason': 'stop', 'logprobs': None}, id='run--c254d7b3-e237-4bb6-be8d-3ba496167ecb-0', usage_metadata={'input_tokens': 11, 'output_tokens': 11, 'total_tokens': 22})}])\n",
            "content='Goodbye! Have a wonderful day. 😊\\n' additional_kwargs={} response_metadata={'token_usage': {'completion_tokens': 11, 'prompt_tokens': 11, 'total_tokens': 22, 'completion_time': 0.02, 'prompt_time': 0.001920151, 'queue_time': 0.017204082000000002, 'total_time': 0.021920151}, 'model_name': 'gemma2-9b-it', 'system_fingerprint': 'fp_10c08bf97d', 'finish_reason': 'stop', 'logprobs': None} id='run--c254d7b3-e237-4bb6-be8d-3ba496167ecb-0' usage_metadata={'input_tokens': 11, 'output_tokens': 11, 'total_tokens': 22}\n",
            "Assistant: Goodbye! Have a wonderful day. 😊\n",
            "\n",
            "User: q\n",
            "Good Bye\n"
          ]
        }
      ],
      "source": [
        "while True:\n",
        "  user_input=input(\"User: \")\n",
        "  if user_input.lower() in [\"quit\",\"q\"]:\n",
        "    print(\"Good Bye\")\n",
        "    break\n",
        "  for event in graph.stream({'messages':(\"user\",user_input)}):\n",
        "    print(event.values())\n",
        "    for value in event.values():\n",
        "      print(value['messages'])\n",
        "      print(\"Assistant:\",value[\"messages\"].content)"
      ]
    }
  ],
  "metadata": {
    "accelerator": "GPU",
    "colab": {
      "gpuType": "T4",
      "provenance": []
    },
    "kernelspec": {
      "display_name": "Python 3",
      "name": "python3"
    },
    "language_info": {
      "name": "python"
    }
  },
  "nbformat": 4,
  "nbformat_minor": 0
}
